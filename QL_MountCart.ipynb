{
 "cells": [
  {
   "cell_type": "code",
   "execution_count": 1,
   "id": "2e4f9232",
   "metadata": {},
   "outputs": [],
   "source": [
    "import gym\n",
    "import numpy as np\n",
    "\n",
    "\n"
   ]
  },
  {
   "cell_type": "code",
   "execution_count": 2,
   "id": "34796402",
   "metadata": {},
   "outputs": [],
   "source": [
    "#Setting up the environment\n",
    "env=gym.make(\"MountainCar-v0\")\n",
    "\n",
    "#All our variables and constants\n",
    "#Model\n",
    "LEARNING_RATE=0.1\n",
    "DISCOUNT=0.95\n",
    "#Number of episodes for our agent to go through\n",
    "EPISODES=123\n",
    "#Show an example on the screen every 2000 episodes\n",
    "SHOW_EVERY = 20\n",
    "#Our discrete bucketing of the observatrion space\n",
    "DISCRETE_OS_SIZE=[30]*len(env.observation_space.high)\n",
    "#Our increment for the bucketing\n",
    "discrete_os_win_size=(env.observation_space.high - env.observation_space.low) / DISCRETE_OS_SIZE\n",
    "#The epsilon to pilot the randomness of our actions to increase exploration to actually enable learning\n",
    "epsilon = 0.3\n",
    "#When do we start to decay epsilon in order to reduce randomness of the actions of our model\n",
    "START_EPSILON_DECAYING = 1\n",
    "#End of the decaying of our epsilon\n",
    "END_EPSILON_DECAYING = EPISODES // 2\n",
    "#Value of the devaying of our epsilon, by how much do we decrease epislon after each iteration \n",
    "epsilon_decay_value = epsilon / (END_EPSILON_DECAYING - START_EPSILON_DECAYING)\n",
    "#Creation of our Q_table that will store all the different values of our environment space\n",
    "q_table = np.random.uniform(low=-2, high=0, size=(DISCRETE_OS_SIZE + [env.action_space.n]))\n",
    "total =0\n",
    "R1 = []\n",
    "E1 = []\n",
    "\n"
   ]
  },
  {
   "cell_type": "code",
   "execution_count": 3,
   "id": "2f3bc7f7",
   "metadata": {
    "scrolled": true
   },
   "outputs": [
    {
     "name": "stdout",
     "output_type": "stream",
     "text": [
      "0\n",
      "20\n",
      "40\n",
      "60\n",
      "80\n",
      "100\n",
      "120\n"
     ]
    }
   ],
   "source": [
    "#Quick helper-function that will convert our environment \"state,\" which currently contains continuous \n",
    "#values that would wind up making our Q-Table absolutely gigantic and take forever to learn.... to a \"discrete\" state instead:\n",
    "def get_discrete_state(state):\n",
    "    discrete_state = (state-env.observation_space.low)/discrete_os_win_size\n",
    "    return tuple(discrete_state.astype(int))\n",
    "\n",
    "#Looping code for each episode\n",
    "for episode in range(EPISODES):\n",
    "    #We print the episode number if we will show it as an example\n",
    "    if episode%SHOW_EVERY ==0:\n",
    "        print(episode)\n",
    "        R1.append(total)\n",
    "        E1.append(episode)\n",
    "        total =0\n",
    "        #Show it\n",
    "        render=True\n",
    "    else: \n",
    "        #not show it\n",
    "        render=False\n",
    "        \n",
    "        \n",
    "    #get the discrete_state\n",
    "    discrete_state=get_discrete_state(env.reset())\n",
    "    \n",
    "    done=False\n",
    "    while not done:\n",
    "        #Selection of the action for our Cart \n",
    "        #Now we just need to use epsilon. We'll use np.random.random() to randomly pick a number 0 to 1. \n",
    "        #If np.random.random() is greater than the epsilon value, then we'll go based off the max q value as usual. Otherwise, we will just move randomly:\n",
    "        if np.random.random() > epsilon:\n",
    "            action = np.argmax(q_table[discrete_state])\n",
    "        else:\n",
    "            action = np.random.randint(0, env.action_space.n)\n",
    "            \n",
    "            \n",
    "        #We perform the step based on the action we determined in the previous lines of code and we collect the result\n",
    "        new_state, reward, done, _ = env.step(action)\n",
    "        total+=reward\n",
    "        #We have a new discrete state now\n",
    "        new_discrete_state=get_discrete_state(new_state)\n",
    "        #If we show the example :\n",
    "\n",
    "\n",
    "        # If simulation did not end yet after last step - we update Q table\n",
    "        if not done:\n",
    "            #The max_future_q is grabbed after we've performed our action already, and then we update our previous values based \n",
    "            #partially on the next-step's best Q value. Over time, once we've reached the objective once, this \"reward\" value gets \n",
    "            #slowly back-propagated, one step at a time, per episode. Super basic concept, but pretty neat how it works!\n",
    "            # Maximum possible Q value in next step (for new state)\n",
    "            max_future_q=np.max(q_table[new_discrete_state])\n",
    "            # Current Q value (for current state and performed action)\n",
    "            current_q=q_table[discrete_state+(action, )]\n",
    "            #THE FORMULA FOR ALL Q VALUES (we update the Q wqith the new value)\n",
    "            # And here's our equation for a new Q value for current state and action\n",
    "            new_q = (1 - LEARNING_RATE) * current_q + LEARNING_RATE * (reward + DISCOUNT * max_future_q)\n",
    "            # Update Q table with new Q value\n",
    "            q_table[discrete_state+(action,)]=new_q\n",
    "\n",
    "        # Simulation ended (for any reson) - if goal position is achived - update Q value with reward directly\n",
    "        elif new_state[0] >= env.goal_position:\n",
    "            #we display message if we arrived to the flag\n",
    "            print(f\"Flag reached on episode : {episode}\")\n",
    "            q_table[discrete_state + (action,)] = 0\n",
    "\n",
    "        discrete_state=new_discrete_state\n",
    "\n",
    "    # Decaying is being done every episode if episode number is within decaying range\t\n",
    "    if END_EPSILON_DECAYING >= episode >= START_EPSILON_DECAYING:\n",
    "        epsilon -= epsilon_decay_value\n",
    "\n",
    "#Once all episodes performed we close the environment\n",
    "env.close()"
   ]
  },
  {
   "cell_type": "code",
   "execution_count": 4,
   "id": "ebfbb3fb",
   "metadata": {},
   "outputs": [
    {
     "data": {
      "image/png": "[encoded data removed]",
      "text/plain": [
       "<Figure size 1440x720 with 1 Axes>"
      ]
     },
     "metadata": {
      "needs_background": "light"
     },
     "output_type": "display_data"
    }
   ],
   "source": [
    "import numpy as np\n",
    "import matplotlib.pyplot as plt\n",
    "\n",
    "\n",
    "t = np.array(R1)              # white noise 1\n",
    "s = np.array(E1)              # white noise 2\n",
    "\n",
    "\n",
    "params = {'axes.labelsize': 'x-large',\n",
    "         'axes.titlesize':'x-large',\n",
    "         }\n",
    "plt.rcParams.update(params)\n",
    "\n",
    "fig, ax = plt.subplots()\n",
    "ax.plot(s, t) \n",
    "ax.set(xlabel='Episodes', ylabel='The Sum Of Rewards In Episodes',\n",
    "       title='MountainCar-Q-learning')\n",
    "ax.grid()\n",
    "ax.set_ylim(-4500,-2000)\n",
    "fig.set_size_inches(20, 10)\n",
    "fig.savefig('MC-QL.png', dpi=100)\n",
    "\n",
    "\n",
    "plt.show()"
   ]
  },
  {
   "cell_type": "code",
   "execution_count": null,
   "id": "99becbb8",
   "metadata": {},
   "outputs": [],
   "source": []
  }
 ],
 "metadata": {
  "kernelspec": {
   "display_name": "Python 3",
   "language": "python",
   "name": "python3"
  },
  "language_info": {
   "codemirror_mode": {
    "name": "ipython",
    "version": 3
   },
   "file_extension": ".py",
   "mimetype": "text/x-python",
   "name": "python",
   "nbconvert_exporter": "python",
   "pygments_lexer": "ipython3",
   "version": "3.8.8"
  }
 },
 "nbformat": 4,
 "nbformat_minor": 5
}
